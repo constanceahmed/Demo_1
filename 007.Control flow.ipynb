{
 "cells": [
  {
   "cell_type": "markdown",
   "metadata": {},
   "source": [
    "# Control flow\n",
    "\n",
    "\n"
   ]
  },
  {
   "cell_type": "code",
   "execution_count": null,
   "metadata": {},
   "outputs": [],
   "source": []
  },
  {
   "cell_type": "markdown",
   "metadata": {},
   "source": [
    "# if, elif,else"
   ]
  },
  {
   "cell_type": "code",
   "execution_count": null,
   "metadata": {},
   "outputs": [],
   "source": []
  },
  {
   "cell_type": "markdown",
   "metadata": {},
   "source": [
    "# if"
   ]
  },
  {
   "cell_type": "code",
   "execution_count": 17,
   "metadata": {},
   "outputs": [
    {
     "name": "stdout",
     "output_type": "stream",
     "text": [
      "14\n",
      "490\n"
     ]
    }
   ],
   "source": [
    "#demonstration with if\n",
    "phone_balance = 4\n",
    "momo_balance = 500\n",
    "\n",
    "if phone_balance <=5:\n",
    "    phone_balance +=10\n",
    "    momo_balance -=10\n",
    "    \n",
    "print(phone_balance)\n",
    "print(momo_balance)"
   ]
  },
  {
   "cell_type": "code",
   "execution_count": null,
   "metadata": {},
   "outputs": [],
   "source": []
  },
  {
   "cell_type": "markdown",
   "metadata": {},
   "source": [
    "### if and else"
   ]
  },
  {
   "cell_type": "code",
   "execution_count": 19,
   "metadata": {},
   "outputs": [
    {
     "name": "stdout",
     "output_type": "stream",
     "text": [
      "11\n",
      "490\n",
      "Congratulations!, you have sucessfully purchased 10 cedis credit\n"
     ]
    }
   ],
   "source": [
    "#Eg.1 demonstration with if and else\n",
    "\n",
    "phone_balance = 1\n",
    "momo_balance = 500\n",
    "\n",
    "if phone_balance <= 5:    \n",
    "    phone_balance += 10\n",
    "    momo_balance -= 10\n",
    "    print(phone_balance)\n",
    "    print(momo_balance)\n",
    "    print('Congratulations!, you have sucessfully purchased 10 cedis credit')\n",
    "else:\n",
    "    print('Your current balance is greater than 5 cedis')"
   ]
  },
  {
   "cell_type": "code",
   "execution_count": 23,
   "metadata": {},
   "outputs": [
    {
     "name": "stdout",
     "output_type": "stream",
     "text": [
      "Number 5 is odd.\n"
     ]
    }
   ],
   "source": [
    "#Eg.2 demonstration with if and else\n",
    "\n",
    "number = 5\n",
    "if number % 2 == 0:\n",
    "    print('Number'+' '+str(number)+' '+'is even.' )\n",
    "else:\n",
    "    print('Number'+' '+str(number)+' '+ 'is odd.')"
   ]
  },
  {
   "cell_type": "code",
   "execution_count": null,
   "metadata": {},
   "outputs": [],
   "source": []
  },
  {
   "cell_type": "markdown",
   "metadata": {},
   "source": [
    "### if, elif, and else"
   ]
  },
  {
   "cell_type": "code",
   "execution_count": 26,
   "metadata": {},
   "outputs": [
    {
     "name": "stdout",
     "output_type": "stream",
     "text": [
      "You are 70 years old so you will pay $1.25 to ride the bus.\n"
     ]
    }
   ],
   "source": [
    "# Eg.1 demonstration with if,elif and else\n",
    "age = 70\n",
    "\n",
    "free_up_to_age = 4\n",
    "child_up_to_age = 18\n",
    "senior_from_age = 65\n",
    "\n",
    "concession_ticket = 1.25\n",
    "adult_ticket = 2.50\n",
    "\n",
    "if age <= free_up_to_age:\n",
    "    ticket_price = 0\n",
    "elif age <= child_up_to_age:\n",
    "    ticket_price = concession_ticket\n",
    "elif age >= senior_from_age:\n",
    "    ticket_price = concession_ticket\n",
    "else:\n",
    "    ticket_price = adult_ticket\n",
    "message = 'You are {} years old so you will pay ${} to ride the bus.'.format(age,ticket_price)\n",
    "print(message)"
   ]
  },
  {
   "cell_type": "code",
   "execution_count": null,
   "metadata": {},
   "outputs": [],
   "source": []
  },
  {
   "cell_type": "markdown",
   "metadata": {},
   "source": [
    "### Task 1\n",
    "write a block of code that allows you to buy credit as input from your momo balance and print out:\n",
    "\n",
    "1. the amount bought\n",
    "\n",
    "2. the current credit balance\n",
    "\n",
    "3. the current momobalance\n",
    "(hint: you can include string formatting or string literals)\n",
    "\n",
    "### Task 2\n",
    "\n",
    "(a) Write a block of code that accepts Ghaha cedis as input and  converts it to US dollors.\n",
    "\n",
    "(b) Write a block of code that accepts  US dollors as input and  converts it to Ghaha cedis.\n",
    "\n",
    "### 3 Task 3\n",
    "\n",
    "Modify the code below to accept age as input."
   ]
  },
  {
   "cell_type": "code",
   "execution_count": null,
   "metadata": {},
   "outputs": [],
   "source": [
    "# Eg.1 demonstration with if,elif and else\n",
    "age = 70\n",
    "\n",
    "free_up_to_age = 4\n",
    "child_up_to_age = 18\n",
    "senior_from_age = 65\n",
    "\n",
    "concession_ticket = 1.25\n",
    "adult_ticket = 2.50\n",
    "\n",
    "if age <= free_up_to_age:\n",
    "    ticket_price = 0\n",
    "elif age <= child_up_to_age:\n",
    "    ticket_price = concession_ticket\n",
    "elif age >= senior_from_age:\n",
    "    ticket_price = concession_ticket\n",
    "else:\n",
    "    ticket_price = adult_ticket\n",
    "message = 'You are {} years old so you will pay ${} to ride the bus.'.format(age,ticket_price)\n",
    "print(message)"
   ]
  },
  {
   "cell_type": "code",
   "execution_count": null,
   "metadata": {},
   "outputs": [],
   "source": []
  },
  {
   "cell_type": "code",
   "execution_count": null,
   "metadata": {},
   "outputs": [],
   "source": []
  },
  {
   "cell_type": "code",
   "execution_count": null,
   "metadata": {},
   "outputs": [],
   "source": []
  },
  {
   "cell_type": "code",
   "execution_count": null,
   "metadata": {},
   "outputs": [],
   "source": []
  },
  {
   "cell_type": "code",
   "execution_count": null,
   "metadata": {},
   "outputs": [],
   "source": []
  },
  {
   "cell_type": "code",
   "execution_count": null,
   "metadata": {},
   "outputs": [],
   "source": []
  },
  {
   "cell_type": "code",
   "execution_count": null,
   "metadata": {},
   "outputs": [],
   "source": []
  },
  {
   "cell_type": "code",
   "execution_count": null,
   "metadata": {},
   "outputs": [],
   "source": []
  },
  {
   "cell_type": "code",
   "execution_count": null,
   "metadata": {},
   "outputs": [],
   "source": []
  },
  {
   "cell_type": "markdown",
   "metadata": {},
   "source": [
    "### Task 1 Solution"
   ]
  },
  {
   "cell_type": "code",
   "execution_count": null,
   "metadata": {},
   "outputs": [],
   "source": [
    "#demonstration with if\n",
    "phone_balance = 10\n",
    "momo_balance = 500\n",
    "\n",
    "if phone_balance <=5:\n",
    "    phone_balance +=10\n",
    "    momo_balance -=10\n",
    "    \n",
    "print(phone_balance)\n",
    "print(momo_balance)"
   ]
  },
  {
   "cell_type": "code",
   "execution_count": null,
   "metadata": {},
   "outputs": [],
   "source": []
  },
  {
   "cell_type": "code",
   "execution_count": null,
   "metadata": {},
   "outputs": [],
   "source": []
  },
  {
   "cell_type": "markdown",
   "metadata": {},
   "source": [
    "### Task 2 Solution "
   ]
  },
  {
   "cell_type": "markdown",
   "metadata": {},
   "source": [
    "## a"
   ]
  },
  {
   "cell_type": "code",
   "execution_count": null,
   "metadata": {},
   "outputs": [],
   "source": [
    "#(a) Write a block of code that accepts Ghaha cedis as input and converts it to US dollors.\n",
    "amount_Ghc = float(input('Enter amount in Ghana cedis: ')) \n",
    "exchange_rate = 0.17\n",
    "amount_USD = amount_Ghc * exchange_rate\n",
    "print('{} in Ghana Cedis is {} USD'.format(amount_Ghc, amount_USD))"
   ]
  },
  {
   "cell_type": "markdown",
   "metadata": {},
   "source": [
    "### b"
   ]
  },
  {
   "cell_type": "code",
   "execution_count": null,
   "metadata": {},
   "outputs": [],
   "source": [
    "#(b) Write a block of code that accepts US dollors as input and converts it to Ghaha cedis\n",
    "amount_USD = float(input('Enter amount in USD: ')) \n",
    "exchange_rate = 0.17\n",
    "amount_Ghc = amount_USD / exchange_rate\n",
    "print('{} in USD is {} Ghana cedis'.format(amount_USD, round(amount_Ghc,0)))\n",
    "#Ken, please can you get the exchange rt...thats ok"
   ]
  },
  {
   "cell_type": "code",
   "execution_count": null,
   "metadata": {},
   "outputs": [],
   "source": []
  },
  {
   "cell_type": "code",
   "execution_count": null,
   "metadata": {},
   "outputs": [],
   "source": []
  },
  {
   "cell_type": "markdown",
   "metadata": {},
   "source": [
    "### Task 3 solution"
   ]
  },
  {
   "cell_type": "code",
   "execution_count": null,
   "metadata": {},
   "outputs": [],
   "source": [
    "age = int(float(input(\"Please enter your age: \")))\n",
    "\n",
    "free_up_to_age = 4\n",
    "child_up_to_age = 18\n",
    "senior_from_age = 65\n",
    "\n",
    "concession_ticket = 1.25\n",
    "adult_ticket = 2.50\n",
    "\n",
    "if age <= free_up_to_age:\n",
    "    ticket_price = 0\n",
    "elif age <= child_up_to_age:\n",
    "    ticket_price = concession_ticket\n",
    "elif age >= senior_from_age:\n",
    "    ticket_price = concession_ticket\n",
    "else:\n",
    "    ticket_price = adult_ticket\n",
    "message = 'You are {} years old so you will pay ${} to ride the bus.'.format(age,ticket_price)\n",
    "print(message)"
   ]
  },
  {
   "cell_type": "code",
   "execution_count": null,
   "metadata": {},
   "outputs": [],
   "source": []
  },
  {
   "cell_type": "markdown",
   "metadata": {},
   "source": [
    "### Nested conditions"
   ]
  },
  {
   "cell_type": "code",
   "execution_count": null,
   "metadata": {},
   "outputs": [],
   "source": [
    "x = float(input(\"Enter a number for x: \"))\n",
    "y = float(input(\"Enter a number for y: \"))\n",
    "\n",
    "if x == y:\n",
    "    print(\"x and y are equal\")\n",
    "    \n",
    "    if y != 0:\n",
    "        print(\"x/y is possible. x/y =\",x/y)\n",
    "    else:\n",
    "        print(\"y = 0\")  \n",
    "        \n",
    "elif x < y:\n",
    "    print(\"x is smaller\")\n",
    "    \n",
    "elif x > y:\n",
    "    print(\"x is greater\") \n",
    "    \n",
    "print(\"Thanks\")"
   ]
  },
  {
   "cell_type": "code",
   "execution_count": null,
   "metadata": {},
   "outputs": [],
   "source": []
  }
 ],
 "metadata": {
  "kernelspec": {
   "display_name": "Python 3 (ipykernel)",
   "language": "python",
   "name": "python3"
  },
  "language_info": {
   "codemirror_mode": {
    "name": "ipython",
    "version": 3
   },
   "file_extension": ".py",
   "mimetype": "text/x-python",
   "name": "python",
   "nbconvert_exporter": "python",
   "pygments_lexer": "ipython3",
   "version": "3.11.4"
  }
 },
 "nbformat": 4,
 "nbformat_minor": 4
}
